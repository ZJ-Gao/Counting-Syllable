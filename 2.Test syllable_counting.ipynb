{
 "cells": [
  {
   "cell_type": "code",
   "execution_count": 1,
   "metadata": {},
   "outputs": [
    {
     "name": "stdout",
     "output_type": "stream",
     "text": [
      "Requirement already satisfied: requests_html in c:\\users\\cupgz\\anaconda3\\lib\\site-packages (0.10.0)\n",
      "Requirement already satisfied: pyquery in c:\\users\\cupgz\\anaconda3\\lib\\site-packages (from requests_html) (1.4.1)\n",
      "Requirement already satisfied: w3lib in c:\\users\\cupgz\\anaconda3\\lib\\site-packages (from requests_html) (1.21.0)\n",
      "Requirement already satisfied: pyppeteer>=0.0.14 in c:\\users\\cupgz\\anaconda3\\lib\\site-packages (from requests_html) (0.0.25)\n",
      "Requirement already satisfied: bs4 in c:\\users\\cupgz\\anaconda3\\lib\\site-packages (from requests_html) (0.0.1)\n",
      "Requirement already satisfied: fake-useragent in c:\\users\\cupgz\\anaconda3\\lib\\site-packages (from requests_html) (0.1.11)\n",
      "Requirement already satisfied: requests in c:\\users\\cupgz\\anaconda3\\lib\\site-packages (from requests_html) (2.22.0)\n",
      "Requirement already satisfied: parse in c:\\users\\cupgz\\anaconda3\\lib\\site-packages (from requests_html) (1.15.0)\n",
      "Requirement already satisfied: lxml>=2.1 in c:\\users\\cupgz\\anaconda3\\lib\\site-packages (from pyquery->requests_html) (4.4.1)\n",
      "Requirement already satisfied: cssselect>0.7.9 in c:\\users\\cupgz\\anaconda3\\lib\\site-packages (from pyquery->requests_html) (1.1.0)\n",
      "Requirement already satisfied: six>=1.4.1 in c:\\users\\cupgz\\anaconda3\\lib\\site-packages (from w3lib->requests_html) (1.14.0)\n",
      "Requirement already satisfied: websockets in c:\\users\\cupgz\\anaconda3\\lib\\site-packages (from pyppeteer>=0.0.14->requests_html) (8.1)\n",
      "Requirement already satisfied: urllib3 in c:\\users\\cupgz\\anaconda3\\lib\\site-packages (from pyppeteer>=0.0.14->requests_html) (1.24.2)\n",
      "Requirement already satisfied: appdirs in c:\\users\\cupgz\\anaconda3\\lib\\site-packages (from pyppeteer>=0.0.14->requests_html) (1.4.3)\n",
      "Requirement already satisfied: tqdm in c:\\users\\cupgz\\anaconda3\\lib\\site-packages (from pyppeteer>=0.0.14->requests_html) (4.36.1)\n",
      "Requirement already satisfied: pyee in c:\\users\\cupgz\\anaconda3\\lib\\site-packages (from pyppeteer>=0.0.14->requests_html) (7.0.1)\n",
      "Requirement already satisfied: beautifulsoup4 in c:\\users\\cupgz\\anaconda3\\lib\\site-packages (from bs4->requests_html) (4.8.0)\n",
      "Requirement already satisfied: chardet<3.1.0,>=3.0.2 in c:\\users\\cupgz\\anaconda3\\lib\\site-packages (from requests->requests_html) (3.0.4)\n",
      "Requirement already satisfied: idna<2.9,>=2.5 in c:\\users\\cupgz\\anaconda3\\lib\\site-packages (from requests->requests_html) (2.8)\n",
      "Requirement already satisfied: certifi>=2017.4.17 in c:\\users\\cupgz\\anaconda3\\lib\\site-packages (from requests->requests_html) (2019.9.11)\n",
      "Requirement already satisfied: soupsieve>=1.2 in c:\\users\\cupgz\\anaconda3\\lib\\site-packages (from beautifulsoup4->bs4->requests_html) (1.9.3)\n"
     ]
    }
   ],
   "source": [
    "!pip install requests_html\n",
    "from requests_html import HTMLSession\n",
    "session = HTMLSession()"
   ]
  },
  {
   "cell_type": "code",
   "execution_count": 53,
   "metadata": {},
   "outputs": [],
   "source": [
    "url = 'https://www.writerlywords.com/syllables/fast'\n",
    "r = session.get(url)\n",
    "sel = '#ctl00_ContentPane_paragraphtext'\n",
    "results = r.html.find(sel)\n",
    "results\n",
    "text = str(results[0].text)"
   ]
  },
  {
   "cell_type": "code",
   "execution_count": 54,
   "metadata": {},
   "outputs": [],
   "source": [
    "# write text into txt document\n",
    "text_file = open(\"sample.txt\", \"a\")\n",
    "n = text_file.write('\\n')\n",
    "n = text_file.write(text)\n",
    "text_file.close()"
   ]
  }
 ],
 "metadata": {
  "kernelspec": {
   "display_name": "Python 3",
   "language": "python",
   "name": "python3"
  },
  "language_info": {
   "codemirror_mode": {
    "name": "ipython",
    "version": 3
   },
   "file_extension": ".py",
   "mimetype": "text/x-python",
   "name": "python",
   "nbconvert_exporter": "python",
   "pygments_lexer": "ipython3",
   "version": "3.7.4"
  }
 },
 "nbformat": 4,
 "nbformat_minor": 2
}
