{
 "cells": [
  {
   "cell_type": "code",
   "execution_count": 95,
   "metadata": {},
   "outputs": [],
   "source": [
    "# opening the text file \n",
    "fp = open('article1.txt')\n",
    "for word in fp:\n",
    "    str = word\n",
    "fp.close()"
   ]
  },
  {
   "cell_type": "code",
   "execution_count": 96,
   "metadata": {
    "scrolled": true
   },
   "outputs": [
    {
     "data": {
      "text/plain": [
       "'Helping with cooking can make your child more curious about different kinds of foods and help them become a better eater. Plus can pique kids enthusiasm for eating new foods. The key to success is picking simple chores that your child can do. Here are a few ways to get your toddler or preschooler excited about food through cooking Washing foods.\\xa0Place a small, sturdy stool or chair in front of the sink, fill a large bowl or salad spinner with water, and show your child how to swish the lettuce leaves. Remember to dress your child in clothing and shoes that can get wet. Also, keep a towel and mop handy! Cutting soft foods. Seat children at the table with a cutting board and a plastic picnic knife. Give them a soft fruit or vegetable to cut. For example, a banana, peeled melon wedge, peach half, pear half, mango wedge or mushrooms. Sit with them and show how to cut the food. Or, ask an older child to help their sibling. Making funny faces.\\xa0Ask your preschooler to help make funny fact desserts for the family. Give them an assortment of fruits such as peach, pear, mandarin orange or apple slices, along with raisins. Show them ways to arrange the fruits on a plate to make a face. Ask them to make their own funny faces for the rest of the plates. Layering parfaits.\\xa0Give your child cut fruit, yogurt and granola or breakfast cereal. Show them how to layer these foods into parfaits in clear plastic cups layers turn out a bit uneven. Dumping and stirring.\\xa0Children love dumping flour and other ingredients into bowls. Have them stir together dry ingredients in large bowls. It’s great fun for young kids to help create delicious muffins, pancakes or cupcakes. Always follow food safety basics Wash your child’s hands before touching food and whenever they get messy Keep breakables and sharp knives out of reach. Avoid working with foods that can be a choking hazard for little ones\\n'"
      ]
     },
     "execution_count": 96,
     "metadata": {},
     "output_type": "execute_result"
    }
   ],
   "source": [
    "str"
   ]
  },
  {
   "cell_type": "code",
   "execution_count": 99,
   "metadata": {},
   "outputs": [
    {
     "data": {
      "text/plain": [
       "['Helping',\n",
       " 'with',\n",
       " 'cooking',\n",
       " 'can',\n",
       " 'make',\n",
       " 'your',\n",
       " 'child',\n",
       " 'more',\n",
       " 'curious',\n",
       " 'about',\n",
       " 'different',\n",
       " 'kinds',\n",
       " 'of',\n",
       " 'foods',\n",
       " 'and',\n",
       " 'help',\n",
       " 'them',\n",
       " 'become',\n",
       " 'a',\n",
       " 'better',\n",
       " 'eater',\n",
       " 'Plus',\n",
       " 'can',\n",
       " 'pique',\n",
       " 'kids',\n",
       " 'enthusiasm',\n",
       " 'for',\n",
       " 'eating',\n",
       " 'new',\n",
       " 'foods',\n",
       " 'The',\n",
       " 'key',\n",
       " 'to',\n",
       " 'success',\n",
       " 'is',\n",
       " 'picking',\n",
       " 'simple',\n",
       " 'chores',\n",
       " 'that',\n",
       " 'your',\n",
       " 'child',\n",
       " 'can',\n",
       " 'do',\n",
       " 'Here',\n",
       " 'are',\n",
       " 'a',\n",
       " 'few',\n",
       " 'ways',\n",
       " 'to',\n",
       " 'get',\n",
       " 'your',\n",
       " 'toddler',\n",
       " 'or',\n",
       " 'preschooler',\n",
       " 'excited',\n",
       " 'about',\n",
       " 'food',\n",
       " 'through',\n",
       " 'cooking',\n",
       " 'Washing',\n",
       " 'foods',\n",
       " 'Place',\n",
       " 'a',\n",
       " 'small',\n",
       " 'sturdy',\n",
       " 'stool',\n",
       " 'or',\n",
       " 'chair',\n",
       " 'in',\n",
       " 'front',\n",
       " 'of',\n",
       " 'the',\n",
       " 'sink',\n",
       " 'fill',\n",
       " 'a',\n",
       " 'large',\n",
       " 'bowl',\n",
       " 'or',\n",
       " 'salad',\n",
       " 'spinner',\n",
       " 'with',\n",
       " 'water',\n",
       " 'and',\n",
       " 'show',\n",
       " 'your',\n",
       " 'child',\n",
       " 'how',\n",
       " 'to',\n",
       " 'swish',\n",
       " 'the',\n",
       " 'lettuce',\n",
       " 'leaves',\n",
       " 'Remember',\n",
       " 'to',\n",
       " 'dress',\n",
       " 'your',\n",
       " 'child',\n",
       " 'in',\n",
       " 'clothing',\n",
       " 'and',\n",
       " 'shoes',\n",
       " 'that',\n",
       " 'can',\n",
       " 'get',\n",
       " 'wet',\n",
       " 'Also',\n",
       " 'keep',\n",
       " 'a',\n",
       " 'towel',\n",
       " 'and',\n",
       " 'mop',\n",
       " 'handy',\n",
       " 'Cutting',\n",
       " 'soft',\n",
       " 'foods',\n",
       " 'Seat',\n",
       " 'children',\n",
       " 'at',\n",
       " 'the',\n",
       " 'table',\n",
       " 'with',\n",
       " 'a',\n",
       " 'cutting',\n",
       " 'board',\n",
       " 'and',\n",
       " 'a',\n",
       " 'plastic',\n",
       " 'picnic',\n",
       " 'knife',\n",
       " 'Give',\n",
       " 'them',\n",
       " 'a',\n",
       " 'soft',\n",
       " 'fruit',\n",
       " 'or',\n",
       " 'vegetable',\n",
       " 'to',\n",
       " 'cut',\n",
       " 'For',\n",
       " 'example',\n",
       " 'a',\n",
       " 'banana',\n",
       " 'peeled',\n",
       " 'melon',\n",
       " 'wedge',\n",
       " 'peach',\n",
       " 'half',\n",
       " 'pear',\n",
       " 'half',\n",
       " 'mango',\n",
       " 'wedge',\n",
       " 'or',\n",
       " 'mushrooms',\n",
       " 'Sit',\n",
       " 'with',\n",
       " 'them',\n",
       " 'and',\n",
       " 'show',\n",
       " 'how',\n",
       " 'to',\n",
       " 'cut',\n",
       " 'the',\n",
       " 'food',\n",
       " 'Or',\n",
       " 'ask',\n",
       " 'an',\n",
       " 'older',\n",
       " 'child',\n",
       " 'to',\n",
       " 'help',\n",
       " 'their',\n",
       " 'sibling',\n",
       " 'Making',\n",
       " 'funny',\n",
       " 'faces',\n",
       " 'Ask',\n",
       " 'your',\n",
       " 'preschooler',\n",
       " 'to',\n",
       " 'help',\n",
       " 'make',\n",
       " 'funny',\n",
       " 'fact',\n",
       " 'desserts',\n",
       " 'for',\n",
       " 'the',\n",
       " 'family',\n",
       " 'Give',\n",
       " 'them',\n",
       " 'an',\n",
       " 'assortment',\n",
       " 'of',\n",
       " 'fruits',\n",
       " 'such',\n",
       " 'as',\n",
       " 'peach',\n",
       " 'pear',\n",
       " 'mandarin',\n",
       " 'orange',\n",
       " 'or',\n",
       " 'apple',\n",
       " 'slices',\n",
       " 'along',\n",
       " 'with',\n",
       " 'raisins',\n",
       " 'Show',\n",
       " 'them',\n",
       " 'ways',\n",
       " 'to',\n",
       " 'arrange',\n",
       " 'the',\n",
       " 'fruits',\n",
       " 'on',\n",
       " 'a',\n",
       " 'plate',\n",
       " 'to',\n",
       " 'make',\n",
       " 'a',\n",
       " 'face',\n",
       " 'Ask',\n",
       " 'them',\n",
       " 'to',\n",
       " 'make',\n",
       " 'their',\n",
       " 'own',\n",
       " 'funny',\n",
       " 'faces',\n",
       " 'for',\n",
       " 'the',\n",
       " 'rest',\n",
       " 'of',\n",
       " 'the',\n",
       " 'plates',\n",
       " 'Layering',\n",
       " 'parfaits',\n",
       " 'Give',\n",
       " 'your',\n",
       " 'child',\n",
       " 'cut',\n",
       " 'fruit',\n",
       " 'yogurt',\n",
       " 'and',\n",
       " 'granola',\n",
       " 'or',\n",
       " 'breakfast',\n",
       " 'cereal',\n",
       " 'Show',\n",
       " 'them',\n",
       " 'how',\n",
       " 'to',\n",
       " 'layer',\n",
       " 'these',\n",
       " 'foods',\n",
       " 'into',\n",
       " 'parfaits',\n",
       " 'in',\n",
       " 'clear',\n",
       " 'plastic',\n",
       " 'cups',\n",
       " 'layers',\n",
       " 'turn',\n",
       " 'out',\n",
       " 'a',\n",
       " 'bit',\n",
       " 'uneven',\n",
       " 'Dumping',\n",
       " 'and',\n",
       " 'stirring',\n",
       " 'Children',\n",
       " 'love',\n",
       " 'dumping',\n",
       " 'flour',\n",
       " 'and',\n",
       " 'other',\n",
       " 'ingredients',\n",
       " 'into',\n",
       " 'bowls',\n",
       " 'Have',\n",
       " 'them',\n",
       " 'stir',\n",
       " 'together',\n",
       " 'dry',\n",
       " 'ingredients',\n",
       " 'in',\n",
       " 'large',\n",
       " 'bowls',\n",
       " 'It’s',\n",
       " 'great',\n",
       " 'fun',\n",
       " 'for',\n",
       " 'young',\n",
       " 'kids',\n",
       " 'to',\n",
       " 'help',\n",
       " 'create',\n",
       " 'delicious',\n",
       " 'muffins',\n",
       " 'pancakes',\n",
       " 'or',\n",
       " 'cupcakes',\n",
       " 'Always',\n",
       " 'follow',\n",
       " 'food',\n",
       " 'safety',\n",
       " 'basics',\n",
       " 'Wash',\n",
       " 'your',\n",
       " 'child’s',\n",
       " 'hands',\n",
       " 'before',\n",
       " 'touching',\n",
       " 'food',\n",
       " 'and',\n",
       " 'whenever',\n",
       " 'they',\n",
       " 'get',\n",
       " 'messy',\n",
       " 'Keep',\n",
       " 'breakables',\n",
       " 'and',\n",
       " 'sharp',\n",
       " 'knives',\n",
       " 'out',\n",
       " 'of',\n",
       " 'reach',\n",
       " 'Avoid',\n",
       " 'working',\n",
       " 'with',\n",
       " 'foods',\n",
       " 'that',\n",
       " 'can',\n",
       " 'be',\n",
       " 'a',\n",
       " 'choking',\n",
       " 'hazard',\n",
       " 'for',\n",
       " 'little',\n",
       " 'ones']"
      ]
     },
     "execution_count": 99,
     "metadata": {},
     "output_type": "execute_result"
    }
   ],
   "source": [
    "list = str.split()\n",
    "for word in list:\n",
    "    word = word.replace(',','')\n",
    "    word = word.replace('.','')\n",
    "    word = word.replace('!','')\n",
    "list"
   ]
  },
  {
   "cell_type": "markdown",
   "metadata": {},
   "source": [
    "# Practice split function"
   ]
  },
  {
   "cell_type": "markdown",
   "metadata": {},
   "source": [
    "## split ‘\\n’"
   ]
  },
  {
   "cell_type": "code",
   "execution_count": 93,
   "metadata": {},
   "outputs": [],
   "source": [
    "c = 'say,hello baby\\n'"
   ]
  },
  {
   "cell_type": "code",
   "execution_count": 94,
   "metadata": {},
   "outputs": [
    {
     "data": {
      "text/plain": [
       "'sayhellobaby'"
      ]
     },
     "execution_count": 94,
     "metadata": {},
     "output_type": "execute_result"
    }
   ],
   "source": [
    "c = c.replace('\\n','')\n",
    "c = c.replace(' ','')\n",
    "c = c.replace(',','')\n",
    "c"
   ]
  },
  {
   "cell_type": "markdown",
   "metadata": {},
   "source": [
    "## split space"
   ]
  },
  {
   "cell_type": "code",
   "execution_count": 64,
   "metadata": {},
   "outputs": [
    {
     "data": {
      "text/plain": [
       "['say', 'hello', 'baby', '']"
      ]
     },
     "execution_count": 64,
     "metadata": {},
     "output_type": "execute_result"
    }
   ],
   "source": [
    "import re\n",
    "re.split('\\n|,|[ ]', c)"
   ]
  },
  {
   "cell_type": "code",
   "execution_count": 53,
   "metadata": {},
   "outputs": [
    {
     "data": {
      "text/plain": [
       "['say', 'hello baby\\n']"
      ]
     },
     "execution_count": 53,
     "metadata": {},
     "output_type": "execute_result"
    }
   ],
   "source": [
    "for word in d:\n",
    "    word.split(' ')\n",
    "    \n",
    "d"
   ]
  },
  {
   "cell_type": "code",
   "execution_count": 66,
   "metadata": {},
   "outputs": [],
   "source": [
    "list = re.split('\\n|,|[ ]', str)"
   ]
  },
  {
   "cell_type": "code",
   "execution_count": 67,
   "metadata": {},
   "outputs": [
    {
     "ename": "IndexError",
     "evalue": "list index out of range",
     "output_type": "error",
     "traceback": [
      "\u001b[1;31m---------------------------------------------------------------------------\u001b[0m",
      "\u001b[1;31mIndexError\u001b[0m                                Traceback (most recent call last)",
      "\u001b[1;32m<ipython-input-67-1713abf3521f>\u001b[0m in \u001b[0;36m<module>\u001b[1;34m\u001b[0m\n\u001b[1;32m----> 1\u001b[1;33m \u001b[0mlist\u001b[0m\u001b[1;33m[\u001b[0m\u001b[1;36m1\u001b[0m\u001b[1;33m]\u001b[0m\u001b[1;33m\u001b[0m\u001b[1;33m\u001b[0m\u001b[0m\n\u001b[0m",
      "\u001b[1;31mIndexError\u001b[0m: list index out of range"
     ]
    }
   ],
   "source": []
  },
  {
   "cell_type": "code",
   "execution_count": 30,
   "metadata": {},
   "outputs": [],
   "source": [
    "import pandas as pd"
   ]
  },
  {
   "cell_type": "code",
   "execution_count": 31,
   "metadata": {},
   "outputs": [],
   "source": [
    "df = pd.DataFrame(list)"
   ]
  },
  {
   "cell_type": "code",
   "execution_count": 32,
   "metadata": {},
   "outputs": [
    {
     "data": {
      "text/html": [
       "<div>\n",
       "<style scoped>\n",
       "    .dataframe tbody tr th:only-of-type {\n",
       "        vertical-align: middle;\n",
       "    }\n",
       "\n",
       "    .dataframe tbody tr th {\n",
       "        vertical-align: top;\n",
       "    }\n",
       "\n",
       "    .dataframe thead th {\n",
       "        text-align: right;\n",
       "    }\n",
       "</style>\n",
       "<table border=\"1\" class=\"dataframe\">\n",
       "  <thead>\n",
       "    <tr style=\"text-align: right;\">\n",
       "      <th></th>\n",
       "      <th>0</th>\n",
       "    </tr>\n",
       "  </thead>\n",
       "  <tbody>\n",
       "    <tr>\n",
       "      <td>0</td>\n",
       "      <td>Helping</td>\n",
       "    </tr>\n",
       "    <tr>\n",
       "      <td>1</td>\n",
       "      <td>with</td>\n",
       "    </tr>\n",
       "    <tr>\n",
       "      <td>2</td>\n",
       "      <td>cooking</td>\n",
       "    </tr>\n",
       "    <tr>\n",
       "      <td>3</td>\n",
       "      <td>can</td>\n",
       "    </tr>\n",
       "    <tr>\n",
       "      <td>4</td>\n",
       "      <td>make</td>\n",
       "    </tr>\n",
       "    <tr>\n",
       "      <td>...</td>\n",
       "      <td>...</td>\n",
       "    </tr>\n",
       "    <tr>\n",
       "      <td>333</td>\n",
       "      <td>choking</td>\n",
       "    </tr>\n",
       "    <tr>\n",
       "      <td>334</td>\n",
       "      <td>hazard</td>\n",
       "    </tr>\n",
       "    <tr>\n",
       "      <td>335</td>\n",
       "      <td>for</td>\n",
       "    </tr>\n",
       "    <tr>\n",
       "      <td>336</td>\n",
       "      <td>little</td>\n",
       "    </tr>\n",
       "    <tr>\n",
       "      <td>337</td>\n",
       "      <td>ones</td>\n",
       "    </tr>\n",
       "  </tbody>\n",
       "</table>\n",
       "<p>338 rows × 1 columns</p>\n",
       "</div>"
      ],
      "text/plain": [
       "           0\n",
       "0    Helping\n",
       "1       with\n",
       "2    cooking\n",
       "3        can\n",
       "4       make\n",
       "..       ...\n",
       "333  choking\n",
       "334   hazard\n",
       "335      for\n",
       "336   little\n",
       "337     ones\n",
       "\n",
       "[338 rows x 1 columns]"
      ]
     },
     "execution_count": 32,
     "metadata": {},
     "output_type": "execute_result"
    }
   ],
   "source": [
    "df"
   ]
  },
  {
   "cell_type": "markdown",
   "metadata": {},
   "source": [
    "# 连接两个字符串"
   ]
  },
  {
   "cell_type": "code",
   "execution_count": 37,
   "metadata": {},
   "outputs": [
    {
     "data": {
      "text/plain": [
       "'happycooking'"
      ]
     },
     "execution_count": 37,
     "metadata": {},
     "output_type": "execute_result"
    }
   ],
   "source": [
    "str1 = 'happy'+list[2]\n",
    "str1"
   ]
  },
  {
   "cell_type": "markdown",
   "metadata": {},
   "source": [
    "##  批量链接字符串"
   ]
  },
  {
   "cell_type": "code",
   "execution_count": null,
   "metadata": {},
   "outputs": [],
   "source": [
    "for str in list:\n",
    "    str_big = []"
   ]
  }
 ],
 "metadata": {
  "kernelspec": {
   "display_name": "Python 3",
   "language": "python",
   "name": "python3"
  },
  "language_info": {
   "codemirror_mode": {
    "name": "ipython",
    "version": 3
   },
   "file_extension": ".py",
   "mimetype": "text/x-python",
   "name": "python",
   "nbconvert_exporter": "python",
   "pygments_lexer": "ipython3",
   "version": "3.7.4"
  }
 },
 "nbformat": 4,
 "nbformat_minor": 2
}
